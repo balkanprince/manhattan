{
 "cells": [
  {
   "cell_type": "markdown",
   "id": "7d2ae9d7",
   "metadata": {},
   "source": [
    "## Tworzenie funkcji w Pythonie\n",
    "\n",
    "W Pythonie funkcje definiujemy za pomocą słowa kluczowego `def`, a następnie podajemy nazwę funkcji oraz nawiasy. W nawiasach możemy umieścić argumenty.\n"
   ]
  },
  {
   "cell_type": "code",
   "execution_count": null,
   "id": "c9700f98",
   "metadata": {},
   "outputs": [],
   "source": [
    "def add_two_numbers(a, b):\n",
    "    return a + b"
   ]
  },
  {
   "cell_type": "markdown",
   "id": "4aebf84b",
   "metadata": {},
   "source": [
    "## Wywoływanie funkcji\n",
    "\n",
    "Aby wywołać funkcję, używamy jej nazwy oraz nawiasów z argumentami, np. `add_two_numbers(2, 3)`.\n"
   ]
  },
  {
   "cell_type": "code",
   "execution_count": null,
   "id": "2e6d248e",
   "metadata": {},
   "outputs": [],
   "source": [
    "result = add_two_numbers(2, 3)\n",
    "print(\"Wynik dodawania:\", result)\n"
   ]
  }
 ],
 "metadata": {
  "kernelspec": {
   "display_name": "Python 3 (ipykernel)",
   "language": "python",
   "name": "python3"
  },
  "language_info": {
   "codemirror_mode": {
    "name": "ipython",
    "version": 3
   },
   "file_extension": ".py",
   "mimetype": "text/x-python",
   "name": "python",
   "nbconvert_exporter": "python",
   "pygments_lexer": "ipython3",
   "version": "3.13.3"
  }
 },
 "nbformat": 4,
 "nbformat_minor": 5
}
